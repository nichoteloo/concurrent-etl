{
 "cells": [
  {
   "cell_type": "code",
   "execution_count": 1,
   "id": "5a18283b",
   "metadata": {},
   "outputs": [],
   "source": [
    "import pandas as pd"
   ]
  },
  {
   "cell_type": "code",
   "execution_count": 2,
   "id": "79f486df",
   "metadata": {},
   "outputs": [],
   "source": [
    "file = 'airport_freq.csv'\n",
    "df = pd.read_csv(file)"
   ]
  },
  {
   "cell_type": "code",
   "execution_count": 3,
   "id": "a4b6dd23",
   "metadata": {},
   "outputs": [],
   "source": [
    "total_lines = df.shape[0]\n",
    "threads, count = 4, 0\n",
    "split_tl = int(total_lines / threads)"
   ]
  },
  {
   "cell_type": "code",
   "execution_count": 4,
   "id": "8221a288",
   "metadata": {},
   "outputs": [],
   "source": [
    "for i in range(0, total_lines, split_tl):\n",
    "    df = pd.read_csv(file, header=None, nrows=split_tl, skiprows=i, low_memory=False)\n",
    "    filename = 'split/airport_freq_'+str(count)+'.csv'\n",
    "    df.to_csv(filename, index=False, header=[\"id\",\"airport_ref\",\"airport_ident\",\"type\",\"description\",\"frequency_mhz\"],\n",
    "              mode='a', chunksize=split_tl)\n",
    "    count += 1"
   ]
  },
  {
   "cell_type": "code",
   "execution_count": 5,
   "id": "3cba5959",
   "metadata": {},
   "outputs": [
    {
     "data": {
      "text/html": [
       "<div>\n",
       "<style scoped>\n",
       "    .dataframe tbody tr th:only-of-type {\n",
       "        vertical-align: middle;\n",
       "    }\n",
       "\n",
       "    .dataframe tbody tr th {\n",
       "        vertical-align: top;\n",
       "    }\n",
       "\n",
       "    .dataframe thead th {\n",
       "        text-align: right;\n",
       "    }\n",
       "</style>\n",
       "<table border=\"1\" class=\"dataframe\">\n",
       "  <thead>\n",
       "    <tr style=\"text-align: right;\">\n",
       "      <th></th>\n",
       "      <th>id</th>\n",
       "      <th>airport_ref</th>\n",
       "      <th>airport_ident</th>\n",
       "      <th>type</th>\n",
       "      <th>description</th>\n",
       "      <th>frequency_mhz</th>\n",
       "    </tr>\n",
       "  </thead>\n",
       "  <tbody>\n",
       "    <tr>\n",
       "      <th>0</th>\n",
       "      <td>51243</td>\n",
       "      <td>27243</td>\n",
       "      <td>ZYTX</td>\n",
       "      <td>ATIS</td>\n",
       "      <td>ATIS</td>\n",
       "      <td>127.45</td>\n",
       "    </tr>\n",
       "    <tr>\n",
       "      <th>1</th>\n",
       "      <td>51244</td>\n",
       "      <td>27243</td>\n",
       "      <td>ZYTX</td>\n",
       "      <td>TWR</td>\n",
       "      <td>SHENYANG TWR</td>\n",
       "      <td>118.10</td>\n",
       "    </tr>\n",
       "    <tr>\n",
       "      <th>2</th>\n",
       "      <td>51190</td>\n",
       "      <td>27244</td>\n",
       "      <td>ZYYJ</td>\n",
       "      <td>TWR</td>\n",
       "      <td>TWR</td>\n",
       "      <td>130.00</td>\n",
       "    </tr>\n",
       "  </tbody>\n",
       "</table>\n",
       "</div>"
      ],
      "text/plain": [
       "      id  airport_ref airport_ident  type   description  frequency_mhz\n",
       "0  51243        27243          ZYTX  ATIS          ATIS         127.45\n",
       "1  51244        27243          ZYTX   TWR  SHENYANG TWR         118.10\n",
       "2  51190        27244          ZYYJ   TWR           TWR         130.00"
      ]
     },
     "execution_count": 5,
     "metadata": {},
     "output_type": "execute_result"
    }
   ],
   "source": [
    "pd.read_csv('split/airport_freq_4.csv')"
   ]
  },
  {
   "cell_type": "code",
   "execution_count": null,
   "id": "17aabfa5",
   "metadata": {},
   "outputs": [],
   "source": []
  }
 ],
 "metadata": {
  "kernelspec": {
   "display_name": "Python 3 (ipykernel)",
   "language": "python",
   "name": "python3"
  },
  "language_info": {
   "codemirror_mode": {
    "name": "ipython",
    "version": 3
   },
   "file_extension": ".py",
   "mimetype": "text/x-python",
   "name": "python",
   "nbconvert_exporter": "python",
   "pygments_lexer": "ipython3",
   "version": "3.9.10"
  }
 },
 "nbformat": 4,
 "nbformat_minor": 5
}
